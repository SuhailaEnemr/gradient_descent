{
 "cells": [
  {
   "cell_type": "code",
   "execution_count": 1,
   "id": "989af0fb",
   "metadata": {},
   "outputs": [
    {
     "name": "stderr",
     "output_type": "stream",
     "text": [
      "D:\\Anaconda3\\lib\\site-packages\\scipy\\__init__.py:146: UserWarning: A NumPy version >=1.16.5 and <1.23.0 is required for this version of SciPy (detected version 1.24.3\n",
      "  warnings.warn(f\"A NumPy version >={np_minversion} and <{np_maxversion}\"\n"
     ]
    }
   ],
   "source": [
    "import pandas as pd\n",
    "import numpy as np\n",
    "import matplotlib.pyplot as plt\n",
    "import seaborn as sns"
   ]
  },
  {
   "cell_type": "code",
   "execution_count": 10,
   "id": "d11f3f88",
   "metadata": {},
   "outputs": [
    {
     "data": {
      "text/html": [
       "<div>\n",
       "<style scoped>\n",
       "    .dataframe tbody tr th:only-of-type {\n",
       "        vertical-align: middle;\n",
       "    }\n",
       "\n",
       "    .dataframe tbody tr th {\n",
       "        vertical-align: top;\n",
       "    }\n",
       "\n",
       "    .dataframe thead th {\n",
       "        text-align: right;\n",
       "    }\n",
       "</style>\n",
       "<table border=\"1\" class=\"dataframe\">\n",
       "  <thead>\n",
       "    <tr style=\"text-align: right;\">\n",
       "      <th></th>\n",
       "      <th>loan_id</th>\n",
       "      <th>no_of_dependents</th>\n",
       "      <th>education</th>\n",
       "      <th>self_employed</th>\n",
       "      <th>income_annum</th>\n",
       "      <th>loan_amount</th>\n",
       "      <th>loan_term</th>\n",
       "      <th>cibil_score</th>\n",
       "      <th>residential_assets_value</th>\n",
       "      <th>commercial_assets_value</th>\n",
       "      <th>luxury_assets_value</th>\n",
       "      <th>bank_asset_value</th>\n",
       "      <th>loan_status</th>\n",
       "    </tr>\n",
       "  </thead>\n",
       "  <tbody>\n",
       "    <tr>\n",
       "      <th>0</th>\n",
       "      <td>1</td>\n",
       "      <td>2</td>\n",
       "      <td>Graduate</td>\n",
       "      <td>No</td>\n",
       "      <td>9600000</td>\n",
       "      <td>29900000</td>\n",
       "      <td>12</td>\n",
       "      <td>778</td>\n",
       "      <td>2400000</td>\n",
       "      <td>17600000</td>\n",
       "      <td>22700000</td>\n",
       "      <td>8000000</td>\n",
       "      <td>Approved</td>\n",
       "    </tr>\n",
       "    <tr>\n",
       "      <th>1</th>\n",
       "      <td>2</td>\n",
       "      <td>0</td>\n",
       "      <td>Not Graduate</td>\n",
       "      <td>Yes</td>\n",
       "      <td>4100000</td>\n",
       "      <td>12200000</td>\n",
       "      <td>8</td>\n",
       "      <td>417</td>\n",
       "      <td>2700000</td>\n",
       "      <td>2200000</td>\n",
       "      <td>8800000</td>\n",
       "      <td>3300000</td>\n",
       "      <td>Rejected</td>\n",
       "    </tr>\n",
       "    <tr>\n",
       "      <th>2</th>\n",
       "      <td>3</td>\n",
       "      <td>3</td>\n",
       "      <td>Graduate</td>\n",
       "      <td>No</td>\n",
       "      <td>9100000</td>\n",
       "      <td>29700000</td>\n",
       "      <td>20</td>\n",
       "      <td>506</td>\n",
       "      <td>7100000</td>\n",
       "      <td>4500000</td>\n",
       "      <td>33300000</td>\n",
       "      <td>12800000</td>\n",
       "      <td>Rejected</td>\n",
       "    </tr>\n",
       "    <tr>\n",
       "      <th>3</th>\n",
       "      <td>4</td>\n",
       "      <td>3</td>\n",
       "      <td>Graduate</td>\n",
       "      <td>No</td>\n",
       "      <td>8200000</td>\n",
       "      <td>30700000</td>\n",
       "      <td>8</td>\n",
       "      <td>467</td>\n",
       "      <td>18200000</td>\n",
       "      <td>3300000</td>\n",
       "      <td>23300000</td>\n",
       "      <td>7900000</td>\n",
       "      <td>Rejected</td>\n",
       "    </tr>\n",
       "    <tr>\n",
       "      <th>4</th>\n",
       "      <td>5</td>\n",
       "      <td>5</td>\n",
       "      <td>Not Graduate</td>\n",
       "      <td>Yes</td>\n",
       "      <td>9800000</td>\n",
       "      <td>24200000</td>\n",
       "      <td>20</td>\n",
       "      <td>382</td>\n",
       "      <td>12400000</td>\n",
       "      <td>8200000</td>\n",
       "      <td>29400000</td>\n",
       "      <td>5000000</td>\n",
       "      <td>Rejected</td>\n",
       "    </tr>\n",
       "    <tr>\n",
       "      <th>5</th>\n",
       "      <td>6</td>\n",
       "      <td>0</td>\n",
       "      <td>Graduate</td>\n",
       "      <td>Yes</td>\n",
       "      <td>4800000</td>\n",
       "      <td>13500000</td>\n",
       "      <td>10</td>\n",
       "      <td>319</td>\n",
       "      <td>6800000</td>\n",
       "      <td>8300000</td>\n",
       "      <td>13700000</td>\n",
       "      <td>5100000</td>\n",
       "      <td>Rejected</td>\n",
       "    </tr>\n",
       "    <tr>\n",
       "      <th>6</th>\n",
       "      <td>7</td>\n",
       "      <td>5</td>\n",
       "      <td>Graduate</td>\n",
       "      <td>No</td>\n",
       "      <td>8700000</td>\n",
       "      <td>33000000</td>\n",
       "      <td>4</td>\n",
       "      <td>678</td>\n",
       "      <td>22500000</td>\n",
       "      <td>14800000</td>\n",
       "      <td>29200000</td>\n",
       "      <td>4300000</td>\n",
       "      <td>Approved</td>\n",
       "    </tr>\n",
       "    <tr>\n",
       "      <th>7</th>\n",
       "      <td>8</td>\n",
       "      <td>2</td>\n",
       "      <td>Graduate</td>\n",
       "      <td>Yes</td>\n",
       "      <td>5700000</td>\n",
       "      <td>15000000</td>\n",
       "      <td>20</td>\n",
       "      <td>382</td>\n",
       "      <td>13200000</td>\n",
       "      <td>5700000</td>\n",
       "      <td>11800000</td>\n",
       "      <td>6000000</td>\n",
       "      <td>Rejected</td>\n",
       "    </tr>\n",
       "    <tr>\n",
       "      <th>8</th>\n",
       "      <td>9</td>\n",
       "      <td>0</td>\n",
       "      <td>Graduate</td>\n",
       "      <td>Yes</td>\n",
       "      <td>800000</td>\n",
       "      <td>2200000</td>\n",
       "      <td>20</td>\n",
       "      <td>782</td>\n",
       "      <td>1300000</td>\n",
       "      <td>800000</td>\n",
       "      <td>2800000</td>\n",
       "      <td>600000</td>\n",
       "      <td>Approved</td>\n",
       "    </tr>\n",
       "    <tr>\n",
       "      <th>9</th>\n",
       "      <td>10</td>\n",
       "      <td>5</td>\n",
       "      <td>Not Graduate</td>\n",
       "      <td>No</td>\n",
       "      <td>1100000</td>\n",
       "      <td>4300000</td>\n",
       "      <td>10</td>\n",
       "      <td>388</td>\n",
       "      <td>3200000</td>\n",
       "      <td>1400000</td>\n",
       "      <td>3300000</td>\n",
       "      <td>1600000</td>\n",
       "      <td>Rejected</td>\n",
       "    </tr>\n",
       "  </tbody>\n",
       "</table>\n",
       "</div>"
      ],
      "text/plain": [
       "   loan_id   no_of_dependents      education  self_employed   income_annum  \\\n",
       "0        1                  2       Graduate             No        9600000   \n",
       "1        2                  0   Not Graduate            Yes        4100000   \n",
       "2        3                  3       Graduate             No        9100000   \n",
       "3        4                  3       Graduate             No        8200000   \n",
       "4        5                  5   Not Graduate            Yes        9800000   \n",
       "5        6                  0       Graduate            Yes        4800000   \n",
       "6        7                  5       Graduate             No        8700000   \n",
       "7        8                  2       Graduate            Yes        5700000   \n",
       "8        9                  0       Graduate            Yes         800000   \n",
       "9       10                  5   Not Graduate             No        1100000   \n",
       "\n",
       "    loan_amount   loan_term   cibil_score   residential_assets_value  \\\n",
       "0      29900000          12           778                    2400000   \n",
       "1      12200000           8           417                    2700000   \n",
       "2      29700000          20           506                    7100000   \n",
       "3      30700000           8           467                   18200000   \n",
       "4      24200000          20           382                   12400000   \n",
       "5      13500000          10           319                    6800000   \n",
       "6      33000000           4           678                   22500000   \n",
       "7      15000000          20           382                   13200000   \n",
       "8       2200000          20           782                    1300000   \n",
       "9       4300000          10           388                    3200000   \n",
       "\n",
       "    commercial_assets_value   luxury_assets_value   bank_asset_value  \\\n",
       "0                  17600000              22700000            8000000   \n",
       "1                   2200000               8800000            3300000   \n",
       "2                   4500000              33300000           12800000   \n",
       "3                   3300000              23300000            7900000   \n",
       "4                   8200000              29400000            5000000   \n",
       "5                   8300000              13700000            5100000   \n",
       "6                  14800000              29200000            4300000   \n",
       "7                   5700000              11800000            6000000   \n",
       "8                    800000               2800000             600000   \n",
       "9                   1400000               3300000            1600000   \n",
       "\n",
       "   loan_status  \n",
       "0     Approved  \n",
       "1     Rejected  \n",
       "2     Rejected  \n",
       "3     Rejected  \n",
       "4     Rejected  \n",
       "5     Rejected  \n",
       "6     Approved  \n",
       "7     Rejected  \n",
       "8     Approved  \n",
       "9     Rejected  "
      ]
     },
     "execution_count": 10,
     "metadata": {},
     "output_type": "execute_result"
    }
   ],
   "source": [
    "data = pd.read_csv('loan_approval_dataset.csv')\n",
    "data.head(10)"
   ]
  },
  {
   "cell_type": "code",
   "execution_count": 14,
   "id": "e6cee65a",
   "metadata": {},
   "outputs": [
    {
     "data": {
      "text/plain": [
       "Index(['loan_id', ' no_of_dependents', ' education', ' self_employed',\n",
       "       ' income_annum', ' loan_amount', ' loan_term', ' cibil_score',\n",
       "       ' residential_assets_value', ' commercial_assets_value',\n",
       "       ' luxury_assets_value', ' bank_asset_value', ' loan_status'],\n",
       "      dtype='object')"
      ]
     },
     "execution_count": 14,
     "metadata": {},
     "output_type": "execute_result"
    }
   ],
   "source": [
    "data.columns"
   ]
  },
  {
   "cell_type": "code",
   "execution_count": 49,
   "id": "6f85e039",
   "metadata": {},
   "outputs": [],
   "source": [
    "from sklearn.preprocessing import LabelEncoder , OneHotEncoder\n",
    "from sklearn.model_selection import train_test_split\n",
    "from sklearn.preprocessing import StandardScaler\n",
    "from sklearn.linear_model import LinearRegression\n",
    "from sklearn.model_selection import cross_val_predict\n",
    "from sklearn.metrics import mean_squared_error"
   ]
  },
  {
   "cell_type": "code",
   "execution_count": 15,
   "id": "b4b53e87",
   "metadata": {},
   "outputs": [
    {
     "name": "stdout",
     "output_type": "stream",
     "text": [
      "[' Graduate' ' Not Graduate']\n",
      "[' No' ' Yes']\n",
      "[' Approved' ' Rejected']\n"
     ]
    }
   ],
   "source": [
    "print(data[' education'].unique())\n",
    "print(data[' self_employed'].unique())\n",
    "print(data[' loan_status'].unique())"
   ]
  },
  {
   "cell_type": "code",
   "execution_count": 5,
   "id": "cf5c8061",
   "metadata": {},
   "outputs": [],
   "source": [
    "encoder = LabelEncoder()"
   ]
  },
  {
   "cell_type": "code",
   "execution_count": 19,
   "id": "9fdad46e",
   "metadata": {},
   "outputs": [
    {
     "data": {
      "text/html": [
       "<div>\n",
       "<style scoped>\n",
       "    .dataframe tbody tr th:only-of-type {\n",
       "        vertical-align: middle;\n",
       "    }\n",
       "\n",
       "    .dataframe tbody tr th {\n",
       "        vertical-align: top;\n",
       "    }\n",
       "\n",
       "    .dataframe thead th {\n",
       "        text-align: right;\n",
       "    }\n",
       "</style>\n",
       "<table border=\"1\" class=\"dataframe\">\n",
       "  <thead>\n",
       "    <tr style=\"text-align: right;\">\n",
       "      <th></th>\n",
       "      <th>loan_id</th>\n",
       "      <th>no_of_dependents</th>\n",
       "      <th>education</th>\n",
       "      <th>self_employed</th>\n",
       "      <th>income_annum</th>\n",
       "      <th>loan_amount</th>\n",
       "      <th>loan_term</th>\n",
       "      <th>cibil_score</th>\n",
       "      <th>residential_assets_value</th>\n",
       "      <th>commercial_assets_value</th>\n",
       "      <th>luxury_assets_value</th>\n",
       "      <th>bank_asset_value</th>\n",
       "      <th>loan_status</th>\n",
       "    </tr>\n",
       "  </thead>\n",
       "  <tbody>\n",
       "    <tr>\n",
       "      <th>0</th>\n",
       "      <td>1</td>\n",
       "      <td>2</td>\n",
       "      <td>0</td>\n",
       "      <td>0</td>\n",
       "      <td>9600000</td>\n",
       "      <td>29900000</td>\n",
       "      <td>12</td>\n",
       "      <td>778</td>\n",
       "      <td>2400000</td>\n",
       "      <td>17600000</td>\n",
       "      <td>22700000</td>\n",
       "      <td>8000000</td>\n",
       "      <td>0</td>\n",
       "    </tr>\n",
       "    <tr>\n",
       "      <th>1</th>\n",
       "      <td>2</td>\n",
       "      <td>0</td>\n",
       "      <td>1</td>\n",
       "      <td>1</td>\n",
       "      <td>4100000</td>\n",
       "      <td>12200000</td>\n",
       "      <td>8</td>\n",
       "      <td>417</td>\n",
       "      <td>2700000</td>\n",
       "      <td>2200000</td>\n",
       "      <td>8800000</td>\n",
       "      <td>3300000</td>\n",
       "      <td>1</td>\n",
       "    </tr>\n",
       "    <tr>\n",
       "      <th>2</th>\n",
       "      <td>3</td>\n",
       "      <td>3</td>\n",
       "      <td>0</td>\n",
       "      <td>0</td>\n",
       "      <td>9100000</td>\n",
       "      <td>29700000</td>\n",
       "      <td>20</td>\n",
       "      <td>506</td>\n",
       "      <td>7100000</td>\n",
       "      <td>4500000</td>\n",
       "      <td>33300000</td>\n",
       "      <td>12800000</td>\n",
       "      <td>1</td>\n",
       "    </tr>\n",
       "    <tr>\n",
       "      <th>3</th>\n",
       "      <td>4</td>\n",
       "      <td>3</td>\n",
       "      <td>0</td>\n",
       "      <td>0</td>\n",
       "      <td>8200000</td>\n",
       "      <td>30700000</td>\n",
       "      <td>8</td>\n",
       "      <td>467</td>\n",
       "      <td>18200000</td>\n",
       "      <td>3300000</td>\n",
       "      <td>23300000</td>\n",
       "      <td>7900000</td>\n",
       "      <td>1</td>\n",
       "    </tr>\n",
       "    <tr>\n",
       "      <th>4</th>\n",
       "      <td>5</td>\n",
       "      <td>5</td>\n",
       "      <td>1</td>\n",
       "      <td>1</td>\n",
       "      <td>9800000</td>\n",
       "      <td>24200000</td>\n",
       "      <td>20</td>\n",
       "      <td>382</td>\n",
       "      <td>12400000</td>\n",
       "      <td>8200000</td>\n",
       "      <td>29400000</td>\n",
       "      <td>5000000</td>\n",
       "      <td>1</td>\n",
       "    </tr>\n",
       "  </tbody>\n",
       "</table>\n",
       "</div>"
      ],
      "text/plain": [
       "   loan_id   no_of_dependents   education   self_employed   income_annum  \\\n",
       "0        1                  2           0               0        9600000   \n",
       "1        2                  0           1               1        4100000   \n",
       "2        3                  3           0               0        9100000   \n",
       "3        4                  3           0               0        8200000   \n",
       "4        5                  5           1               1        9800000   \n",
       "\n",
       "    loan_amount   loan_term   cibil_score   residential_assets_value  \\\n",
       "0      29900000          12           778                    2400000   \n",
       "1      12200000           8           417                    2700000   \n",
       "2      29700000          20           506                    7100000   \n",
       "3      30700000           8           467                   18200000   \n",
       "4      24200000          20           382                   12400000   \n",
       "\n",
       "    commercial_assets_value   luxury_assets_value   bank_asset_value  \\\n",
       "0                  17600000              22700000            8000000   \n",
       "1                   2200000               8800000            3300000   \n",
       "2                   4500000              33300000           12800000   \n",
       "3                   3300000              23300000            7900000   \n",
       "4                   8200000              29400000            5000000   \n",
       "\n",
       "    loan_status  \n",
       "0             0  \n",
       "1             1  \n",
       "2             1  \n",
       "3             1  \n",
       "4             1  "
      ]
     },
     "execution_count": 19,
     "metadata": {},
     "output_type": "execute_result"
    }
   ],
   "source": [
    "data[' education'] = encoder.fit_transform(data[' education'])\n",
    "# Graduate = 0 & Not Graduate = 1\n",
    "\n",
    "data[' self_employed'] = encoder.fit_transform(data[' self_employed'])\n",
    "# No = 0 & Yes = 1\n",
    "\n",
    "data[' loan_status'] = encoder.fit_transform(data[' loan_status'])\n",
    "# Approved = 0 & Rejected = 1\n",
    "\n",
    "data.head()"
   ]
  },
  {
   "cell_type": "code",
   "execution_count": 21,
   "id": "faa2655c",
   "metadata": {},
   "outputs": [],
   "source": [
    "x = data.iloc[: , :-1]\n",
    "y = data.iloc[: , -1]\n",
    "x_train , x_test , y_train , y_test = train_test_split(x , y , test_size = 0.2 , random_state = 42)"
   ]
  },
  {
   "cell_type": "code",
   "execution_count": 57,
   "id": "4c636718",
   "metadata": {},
   "outputs": [],
   "source": [
    "norma = StandardScaler()\n",
    "x_train = norma.fit_transform(x_train)\n",
    "x_test = norma.transform(x_test)\n"
   ]
  },
  {
   "cell_type": "code",
   "execution_count": 46,
   "id": "8ad78cf1",
   "metadata": {},
   "outputs": [],
   "source": [
    "model = LinearRegression()"
   ]
  },
  {
   "cell_type": "code",
   "execution_count": 47,
   "id": "420763e4",
   "metadata": {},
   "outputs": [],
   "source": [
    "model.fit(x_train,y_train)\n",
    "y_pred = model.predict(x_test)"
   ]
  },
  {
   "cell_type": "code",
   "execution_count": null,
   "id": "b05a0501",
   "metadata": {},
   "outputs": [],
   "source": []
  },
  {
   "cell_type": "code",
   "execution_count": 50,
   "id": "6b45ef88",
   "metadata": {},
   "outputs": [
    {
     "data": {
      "text/plain": [
       "0.09260798391093669"
      ]
     },
     "execution_count": 50,
     "metadata": {},
     "output_type": "execute_result"
    }
   ],
   "source": [
    "score = mean_squared_error(y_test,y_pred)\n",
    "score"
   ]
  },
  {
   "cell_type": "code",
   "execution_count": 61,
   "id": "7a3610a4",
   "metadata": {},
   "outputs": [
    {
     "data": {
      "text/plain": [
       "0.0926079839109368"
      ]
     },
     "execution_count": 61,
     "metadata": {},
     "output_type": "execute_result"
    }
   ],
   "source": [
    "score = MSE(y_test,y_pred)\n",
    "score"
   ]
  },
  {
   "cell_type": "code",
   "execution_count": 74,
   "id": "f621e5a3",
   "metadata": {},
   "outputs": [
    {
     "data": {
      "text/plain": [
       "(20,)"
      ]
     },
     "execution_count": 74,
     "metadata": {},
     "output_type": "execute_result"
    }
   ],
   "source": [
    "# Data\n",
    "X = np.array([32.50234527, 53.42680403, 61.53035803, 47.47563963, 59.81320787,\n",
    "              55.14218841, 52.21179669, 39.29956669, 48.10504169, 52.55001444,\n",
    "              45.41973014, 54.35163488, 44.1640495 , 58.16847072, 56.72720806,\n",
    "              48.95588857, 44.68719623, 60.29732685, 45.61864377, 38.81681754])\n",
    "Y = np.array([31.70700585, 68.77759598, 62.5623823 , 71.54663223, 87.23092513,\n",
    "              78.21151827, 79.64197305, 59.17148932, 75.3312423 , 71.30087989,\n",
    "              55.16567715, 82.47884676, 62.00892325, 75.39287043, 81.43619216,\n",
    "              60.72360244, 82.89250373, 97.37989686, 48.84715332, 56.87721319])\n",
    "X.shape"
   ]
  },
  {
   "cell_type": "code",
   "execution_count": 93,
   "id": "b93946d3",
   "metadata": {},
   "outputs": [],
   "source": [
    "# spliting data :\n",
    "x_train = X[: 16]\n",
    "y_train = Y[: 16]\n",
    "x_test = X[16:]\n",
    "y_test = Y[16:]"
   ]
  },
  {
   "cell_type": "code",
   "execution_count": 106,
   "id": "8549d5d7",
   "metadata": {},
   "outputs": [
    {
     "name": "stdout",
     "output_type": "stream",
     "text": [
      "iteration :  13\n"
     ]
    },
    {
     "data": {
      "image/png": "[encoded data removed]",
      "text/plain": [
       "<Figure size 576x432 with 1 Axes>"
      ]
     },
     "metadata": {
      "needs_background": "light"
     },
     "output_type": "display_data"
    },
    {
     "name": "stdout",
     "output_type": "stream",
     "text": [
      "Estimated Weight: 1.3612336883338403\n",
      "Estimated Bias: 0.034337283106515085\n"
     ]
    },
    {
     "data": {
      "image/png": "[encoded data removed]",
      "text/plain": [
       "<Figure size 576x432 with 1 Axes>"
      ]
     },
     "metadata": {
      "needs_background": "light"
     },
     "output_type": "display_data"
    }
   ],
   "source": [
    "estimated_weight, estimated_bias = gredian_descent(x_train, y_train, iterations=2000)\n",
    "print(f\"Estimated Weight: {estimated_weight}\\nEstimated Bias: {estimated_bias}\")\n",
    "\n",
    "y_pred = estimated_weight*x_test + estimated_bias\n",
    "\n",
    "# Plotting the regression line\n",
    "plt.figure(figsize = (8,6))\n",
    "plt.scatter(X, Y, marker='o', color='red')\n",
    "plt.plot([min(X), max(X)], [min(y_pred), max(y_pred)], color='blue',markerfacecolor='red',\n",
    "            markersize=10,linestyle='dashed')\n",
    "plt.xlabel(\"X\")\n",
    "plt.ylabel(\"Y\")\n",
    "plt.show()\n"
   ]
  },
  {
   "cell_type": "code",
   "execution_count": 107,
   "id": "85e16948",
   "metadata": {},
   "outputs": [
    {
     "data": {
      "text/plain": [
       "227.71183395206776"
      ]
     },
     "execution_count": 107,
     "metadata": {},
     "output_type": "execute_result"
    }
   ],
   "source": [
    "score = MSE(y_test , y_pred)\n",
    "score"
   ]
  },
  {
   "cell_type": "code",
   "execution_count": 103,
   "id": "5b815f06",
   "metadata": {},
   "outputs": [],
   "source": [
    "def MSE (y_true , pred) :\n",
    "    cost = np.square(np.subtract(y_true,pred)).mean()\n",
    "    return cost"
   ]
  },
  {
   "cell_type": "code",
   "execution_count": 96,
   "id": "db8f266c",
   "metadata": {},
   "outputs": [],
   "source": [
    "def gredian_descent (x , y , iterations = 1000 , learning_rate = 0.0001 , stop_point = 1e-4) :\n",
    "    \n",
    "    costs = []\n",
    "    weights = []\n",
    "    n = float(len(x))\n",
    "    previous_cost = None\n",
    "    current_weight = 0.1\n",
    "    current_bias = 0.01\n",
    "    \n",
    "    for i in range(iterations) :\n",
    "        y_pred = (current_weight * x) + current_bias\n",
    "        \n",
    "        current_cost = MSE(y , y_pred)\n",
    "        \n",
    "        if previous_cost and abs(previous_cost - current_cost) <= stop_point :\n",
    "            break\n",
    "            \n",
    "        costs.append(current_cost)\n",
    "        weights.append(current_weight)\n",
    "        \n",
    "        previous_cost = current_cost\n",
    "        \n",
    "        # calculating the gredients\n",
    "        weight_derivative = -(2/n) * sum(x * (y - y_pred))\n",
    "        bias_derivative = -(2/n) * sum(y - y_pred)\n",
    "        \n",
    "        # updating for weight and bais\n",
    "        current_weight = current_weight - (learning_rate * weight_derivative)\n",
    "        current_bias = current_bias - (learning_rate * bias_derivative)\n",
    "        \n",
    "    print('iteration : ' , i)\n",
    "    # Visualizing the weights and cost at for all iterations\n",
    "    plt.figure(figsize = (8,6))\n",
    "    plt.plot(weights, costs)\n",
    "    plt.scatter(weights, costs, marker='o', color='red')\n",
    "    plt.title(\"Cost vs Weights\")\n",
    "    plt.ylabel(\"Cost\")\n",
    "    plt.xlabel(\"Weight\")\n",
    "    plt.show()\n",
    "    \n",
    "    return current_weight, current_bias"
   ]
  },
  {
   "cell_type": "code",
   "execution_count": 88,
   "id": "d8ee9502",
   "metadata": {},
   "outputs": [
    {
     "name": "stdout",
     "output_type": "stream",
     "text": [
      "-6593.291142562118\n",
      "Iteration 1: Cost 4352.088931274409, Weight \t\t0.7593291142562117, Bias 0.02288558130709\n",
      "-3222.738446061121\n",
      "Iteration 2: Cost 1114.8561474350017, Weight \t\t1.081602958862324, Bias 0.02918014748569513\n",
      "-1575.244496321844\n",
      "Iteration 3: Cost 341.42912086804455, Weight \t\t1.2391274084945083, Bias 0.03225308846928192\n",
      "-769.9651968019011\n",
      "Iteration 4: Cost 156.64495290904443, Weight \t\t1.3161239281746984, Bias 0.03375132986012604\n",
      "-376.35237027782244\n",
      "Iteration 5: Cost 112.49704004742098, Weight \t\t1.3537591652024805, Bias 0.034479873154934775\n",
      "-183.95818195330668\n",
      "Iteration 6: Cost 101.9493925395456, Weight \t\t1.3721549833978113, Bias 0.034832195392868505\n",
      "-89.91774117648828\n",
      "Iteration 7: Cost 99.4293893333546, Weight \t\t1.3811467575154601, Bias 0.03500062439068245\n",
      "-43.95167235264285\n",
      "Iteration 8: Cost 98.82731958262897, Weight \t\t1.3855419247507244, Bias 0.03507916814736111\n",
      "-21.48389715052049\n",
      "Iteration 9: Cost 98.68347500997261, Weight \t\t1.3876903144657764, Bias 0.035113776874486774\n",
      "-10.501863325799071\n",
      "Iteration 10: Cost 98.64910780902792, Weight \t\t1.3887405007983562, Bias 0.035126910596389935\n",
      "-5.133950130949029\n",
      "Iteration 11: Cost 98.64089651459352, Weight \t\t1.389253895811451, Bias 0.03512954755833985\n",
      "-2.510165452588821\n",
      "Iteration 12: Cost 98.63893428729509, Weight \t\t1.38950491235671, Bias 0.035127053821718185\n",
      "-1.2276845707566721\n",
      "Iteration 13: Cost 98.63846506273883, Weight \t\t1.3896276808137857, Bias 0.035122052266051224\n",
      "-0.6008201674434006\n",
      "Iteration 14: Cost 98.63835254057648, Weight \t\t1.38968776283053, Bias 0.03511582492978764\n",
      "-0.29441483389158235\n",
      "Iteration 15: Cost 98.63832524036214, Weight \t\t1.3897172043139192, Bias 0.03510899846107016\n",
      "-0.14464683139795512\n",
      "Iteration 16: Cost 98.63831830104695, Weight \t\t1.389731668997059, Bias 0.035101879159522745\n",
      "-0.0714416595315214\n",
      "Iteration 17: Cost 98.63831622628217, Weight \t\t1.389738813163012, Bias 0.03509461674147458\n"
     ]
    },
    {
     "data": {
      "image/png": "[encoded data removed]",
      "text/plain": [
       "<Figure size 576x432 with 1 Axes>"
      ]
     },
     "metadata": {
      "needs_background": "light"
     },
     "output_type": "display_data"
    },
    {
     "name": "stdout",
     "output_type": "stream",
     "text": [
      "Estimated Weight: 1.389738813163012\n",
      "Estimated Bias: 0.03509461674147458\n"
     ]
    },
    {
     "data": {
      "image/png": "[encoded data removed]",
      "text/plain": [
       "<Figure size 576x432 with 1 Axes>"
      ]
     },
     "metadata": {
      "needs_background": "light"
     },
     "output_type": "display_data"
    }
   ],
   "source": [
    "# Importing Libraries\n",
    "import numpy as np\n",
    "import matplotlib.pyplot as plt\n",
    "\n",
    "def mean_squared_error(y_true, y_predicted):\n",
    "\t\n",
    "\t# Calculating the loss or cost\n",
    "\tcost = np.sum((y_true-y_predicted)**2) / len(y_true)\n",
    "\treturn cost\n",
    "\n",
    "# Gradient Descent Function\n",
    "# Here iterations, learning_rate, stopping_threshold\n",
    "# are hyperparameters that can be tuned\n",
    "def gradient_descent(x, y, iterations = 1000, learning_rate = 0.0001,\n",
    "\t\t\t\t\tstopping_threshold = 1e-6):\n",
    "\t\n",
    "\t# Initializing weight, bias, learning rate and iterations\n",
    "\tcurrent_weight = 0.1\n",
    "\tcurrent_bias = 0.01\n",
    "\titerations = iterations  #تكرار او اعادة\n",
    "\tlearning_rate = learning_rate\n",
    "\tn = float(len(x))\n",
    "\t\n",
    "\tcosts = []\n",
    "\tweights = []\n",
    "\tprevious_cost = None\n",
    "\t\n",
    "\t# Estimation of optimal parameters\n",
    "\tfor i in range(iterations):\n",
    "\t\t\n",
    "\t\t# Making predictions          (y = b1*x + b2)\n",
    "\t\ty_predicted = (current_weight * x) + current_bias\n",
    "\t\t\n",
    "\t\t# Calculating the current cost\n",
    "\t\tcurrent_cost = mean_squared_error(y, y_predicted)\n",
    "\n",
    "\t\t# If the change in cost is less than or equal to\n",
    "\t\t# stopping_threshold we stop the gradient descent\n",
    "\t\tif previous_cost and abs(previous_cost-current_cost) <= stopping_threshold:\n",
    "\t\t\tbreak\n",
    "\t\t\n",
    "\t\tprevious_cost = current_cost\n",
    "\n",
    "\t\tcosts.append(current_cost)\n",
    "\t\tweights.append(current_weight)\n",
    "\t\t\n",
    "\t\t# Calculating the gradients\n",
    "\t\tweight_derivative = -(2/n) * sum(x * (y-y_predicted))\n",
    "\t\tbias_derivative = -(2/n) * sum(y-y_predicted)\n",
    "\t\tprint(weight_derivative)\n",
    "\t\t# Updating weights and bias\n",
    "\t\tcurrent_weight = current_weight - (learning_rate * weight_derivative)\n",
    "\t\tcurrent_bias = current_bias - (learning_rate * bias_derivative)\n",
    "\t\t\t\t\n",
    "\t\t# Printing the parameters for each 1000th iteration\n",
    "\t\tprint(f\"Iteration {i+1}: Cost {current_cost}, Weight \\\n",
    "\t\t{current_weight}, Bias {current_bias}\")\n",
    "\t\n",
    "\t\n",
    "\t# Visualizing the weights and cost at for all iterations\n",
    "\tplt.figure(figsize = (8,6))\n",
    "\tplt.plot(weights, costs)\n",
    "\tplt.scatter(weights, costs, marker='o', color='red')\n",
    "\tplt.title(\"Cost vs Weights\")\n",
    "\tplt.ylabel(\"Cost\")\n",
    "\tplt.xlabel(\"Weight\")\n",
    "\tplt.show()\n",
    "\t\n",
    "\treturn current_weight, current_bias\n",
    "\n",
    "\n",
    "def main():\n",
    "\t\n",
    "\t# Data\n",
    "\tX = np.array([32.50234527, 53.42680403, 61.53035803, 47.47563963, 59.81320787,\n",
    "\t\t55.14218841, 52.21179669, 39.29956669, 48.10504169, 52.55001444,\n",
    "\t\t45.41973014, 54.35163488, 44.1640495 , 58.16847072, 56.72720806,\n",
    "\t\t48.95588857, 44.68719623, 60.29732685, 45.61864377, 38.81681754])\n",
    "\tY = np.array([31.70700585, 68.77759598, 62.5623823 , 71.54663223, 87.23092513,\n",
    "\t\t78.21151827, 79.64197305, 59.17148932, 75.3312423 , 71.30087989,\n",
    "\t\t55.16567715, 82.47884676, 62.00892325, 75.39287043, 81.43619216,\n",
    "\t\t60.72360244, 82.89250373, 97.37989686, 48.84715332, 56.87721319])\n",
    "\n",
    "\t# Estimating weight and bias using gradient descent\n",
    "\testimated_weight, estimated_bias = gradient_descent(X, Y, iterations=2000)\n",
    "\tprint(f\"Estimated Weight: {estimated_weight}\\nEstimated Bias: {estimated_bias}\")\n",
    "\n",
    "\t# Making predictions using estimated parameters\n",
    "\tY_pred = estimated_weight*X + estimated_bias\n",
    "\n",
    "\t# Plotting the regression line\n",
    "\tplt.figure(figsize = (8,6))\n",
    "\tplt.scatter(X, Y, marker='o', color='red')\n",
    "\tplt.plot([min(X), max(X)], [min(Y_pred), max(Y_pred)], color='blue',markerfacecolor='red',\n",
    "\t\t\tmarkersize=10,linestyle='dashed')\n",
    "\tplt.xlabel(\"X\")\n",
    "\tplt.ylabel(\"Y\")\n",
    "\tplt.show()\n",
    "\n",
    "\t\n",
    "if __name__==\"__main__\":\n",
    "\tmain()\n"
   ]
  },
  {
   "cell_type": "code",
   "execution_count": null,
   "id": "b045b560",
   "metadata": {},
   "outputs": [],
   "source": []
  }
 ],
 "metadata": {
  "kernelspec": {
   "display_name": "Python 3 (ipykernel)",
   "language": "python",
   "name": "python3"
  },
  "language_info": {
   "codemirror_mode": {
    "name": "ipython",
    "version": 3
   },
   "file_extension": ".py",
   "mimetype": "text/x-python",
   "name": "python",
   "nbconvert_exporter": "python",
   "pygments_lexer": "ipython3",
   "version": "3.9.12"
  }
 },
 "nbformat": 4,
 "nbformat_minor": 5
}
